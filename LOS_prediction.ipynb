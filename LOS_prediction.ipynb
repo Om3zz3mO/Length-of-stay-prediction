{
  "cells": [
    {
      "cell_type": "markdown",
      "metadata": {
        "id": "JEs290Cj0Ssw"
      },
      "source": [
        "Length OF Stay (LOS) Prediction using Machine Learning Models\n",
        "\n",
        "Aarchit Ramasubramanian - RA2011047010027\n",
        "\n",
        "R Logeshwaran - RA2011047010026\n",
        "\n",
        "Nithish Karthicc - RA2011047010013"
      ]
    },
    {
      "cell_type": "code",
      "execution_count": null,
      "metadata": {
        "id": "GwIeW5Z10Ssy"
      },
      "outputs": [],
      "source": [
        "import numpy as np\n",
        "import pandas as pd\n",
        "import matplotlib.pyplot as plt\n",
        "np.set_printoptions(suppress=True)\n",
        "import warnings\n",
        "warnings.filterwarnings('ignore')"
      ]
    },
    {
      "cell_type": "code",
      "execution_count": null,
      "metadata": {
        "id": "Q2Uk95Qm0Ss0"
      },
      "outputs": [],
      "source": [
        "train = pd.read_csv('train.csv')\n",
        "test = pd.read_csv('test.csv')"
      ]
    },
    {
      "cell_type": "markdown",
      "metadata": {
        "id": "AzgLjozo0Ss0"
      },
      "source": [
        "## Data Exploration"
      ]
    },
    {
      "cell_type": "markdown",
      "metadata": {
        "id": "JUeLQ3l_0Ss0"
      },
      "source": [
        " Overview of Data"
      ]
    },
    {
      "cell_type": "code",
      "execution_count": null,
      "metadata": {
        "id": "QF86OSGz0Ss0",
        "outputId": "d06f60eb-37a5-47e6-ddd4-09ac57b34d4c",
        "colab": {
          "base_uri": "https://localhost:8080/",
          "height": 409
        }
      },
      "outputs": [
        {
          "output_type": "execute_result",
          "data": {
            "text/plain": [
              "   case_id  Hospital_code Hospital_type_code  City_Code_Hospital  \\\n",
              "0        1              8                  c                 3.0   \n",
              "1        2              2                  c                 5.0   \n",
              "2        3             10                  e                 1.0   \n",
              "3        4             26                  b                 2.0   \n",
              "4        5             26                  b                 2.0   \n",
              "\n",
              "  Hospital_region_code  Available Extra Rooms in Hospital    Department  \\\n",
              "0                    Z                                3.0  radiotherapy   \n",
              "1                    Z                                2.0  radiotherapy   \n",
              "2                    X                                2.0    anesthesia   \n",
              "3                    Y                                2.0  radiotherapy   \n",
              "4                    Y                                2.0  radiotherapy   \n",
              "\n",
              "  Ward_Type Ward_Facility_Code  Bed Grade  patientid  City_Code_Patient  \\\n",
              "0         R                  F        2.0    31397.0                7.0   \n",
              "1         S                  F        2.0    31397.0                7.0   \n",
              "2         S                  E        2.0    31397.0                7.0   \n",
              "3         R                  D        2.0    31397.0                7.0   \n",
              "4         S                  D        2.0    31397.0                7.0   \n",
              "\n",
              "  Type of Admission Severity of Illness  Visitors with Patient    Age  \\\n",
              "0         Emergency             Extreme                    2.0  51-60   \n",
              "1            Trauma             Extreme                    2.0  51-60   \n",
              "2            Trauma             Extreme                    2.0  51-60   \n",
              "3            Trauma             Extreme                    2.0  51-60   \n",
              "4            Trauma             Extreme                    2.0  51-60   \n",
              "\n",
              "   Admission_Deposit   Stay  \n",
              "0             4911.0   0-10  \n",
              "1             5954.0  41-50  \n",
              "2             4745.0  31-40  \n",
              "3             7272.0  41-50  \n",
              "4             5558.0  41-50  "
            ],
            "text/html": [
              "\n",
              "  <div id=\"df-3d660241-867c-4227-b455-a42f48dac864\">\n",
              "    <div class=\"colab-df-container\">\n",
              "      <div>\n",
              "<style scoped>\n",
              "    .dataframe tbody tr th:only-of-type {\n",
              "        vertical-align: middle;\n",
              "    }\n",
              "\n",
              "    .dataframe tbody tr th {\n",
              "        vertical-align: top;\n",
              "    }\n",
              "\n",
              "    .dataframe thead th {\n",
              "        text-align: right;\n",
              "    }\n",
              "</style>\n",
              "<table border=\"1\" class=\"dataframe\">\n",
              "  <thead>\n",
              "    <tr style=\"text-align: right;\">\n",
              "      <th></th>\n",
              "      <th>case_id</th>\n",
              "      <th>Hospital_code</th>\n",
              "      <th>Hospital_type_code</th>\n",
              "      <th>City_Code_Hospital</th>\n",
              "      <th>Hospital_region_code</th>\n",
              "      <th>Available Extra Rooms in Hospital</th>\n",
              "      <th>Department</th>\n",
              "      <th>Ward_Type</th>\n",
              "      <th>Ward_Facility_Code</th>\n",
              "      <th>Bed Grade</th>\n",
              "      <th>patientid</th>\n",
              "      <th>City_Code_Patient</th>\n",
              "      <th>Type of Admission</th>\n",
              "      <th>Severity of Illness</th>\n",
              "      <th>Visitors with Patient</th>\n",
              "      <th>Age</th>\n",
              "      <th>Admission_Deposit</th>\n",
              "      <th>Stay</th>\n",
              "    </tr>\n",
              "  </thead>\n",
              "  <tbody>\n",
              "    <tr>\n",
              "      <th>0</th>\n",
              "      <td>1</td>\n",
              "      <td>8</td>\n",
              "      <td>c</td>\n",
              "      <td>3.0</td>\n",
              "      <td>Z</td>\n",
              "      <td>3.0</td>\n",
              "      <td>radiotherapy</td>\n",
              "      <td>R</td>\n",
              "      <td>F</td>\n",
              "      <td>2.0</td>\n",
              "      <td>31397.0</td>\n",
              "      <td>7.0</td>\n",
              "      <td>Emergency</td>\n",
              "      <td>Extreme</td>\n",
              "      <td>2.0</td>\n",
              "      <td>51-60</td>\n",
              "      <td>4911.0</td>\n",
              "      <td>0-10</td>\n",
              "    </tr>\n",
              "    <tr>\n",
              "      <th>1</th>\n",
              "      <td>2</td>\n",
              "      <td>2</td>\n",
              "      <td>c</td>\n",
              "      <td>5.0</td>\n",
              "      <td>Z</td>\n",
              "      <td>2.0</td>\n",
              "      <td>radiotherapy</td>\n",
              "      <td>S</td>\n",
              "      <td>F</td>\n",
              "      <td>2.0</td>\n",
              "      <td>31397.0</td>\n",
              "      <td>7.0</td>\n",
              "      <td>Trauma</td>\n",
              "      <td>Extreme</td>\n",
              "      <td>2.0</td>\n",
              "      <td>51-60</td>\n",
              "      <td>5954.0</td>\n",
              "      <td>41-50</td>\n",
              "    </tr>\n",
              "    <tr>\n",
              "      <th>2</th>\n",
              "      <td>3</td>\n",
              "      <td>10</td>\n",
              "      <td>e</td>\n",
              "      <td>1.0</td>\n",
              "      <td>X</td>\n",
              "      <td>2.0</td>\n",
              "      <td>anesthesia</td>\n",
              "      <td>S</td>\n",
              "      <td>E</td>\n",
              "      <td>2.0</td>\n",
              "      <td>31397.0</td>\n",
              "      <td>7.0</td>\n",
              "      <td>Trauma</td>\n",
              "      <td>Extreme</td>\n",
              "      <td>2.0</td>\n",
              "      <td>51-60</td>\n",
              "      <td>4745.0</td>\n",
              "      <td>31-40</td>\n",
              "    </tr>\n",
              "    <tr>\n",
              "      <th>3</th>\n",
              "      <td>4</td>\n",
              "      <td>26</td>\n",
              "      <td>b</td>\n",
              "      <td>2.0</td>\n",
              "      <td>Y</td>\n",
              "      <td>2.0</td>\n",
              "      <td>radiotherapy</td>\n",
              "      <td>R</td>\n",
              "      <td>D</td>\n",
              "      <td>2.0</td>\n",
              "      <td>31397.0</td>\n",
              "      <td>7.0</td>\n",
              "      <td>Trauma</td>\n",
              "      <td>Extreme</td>\n",
              "      <td>2.0</td>\n",
              "      <td>51-60</td>\n",
              "      <td>7272.0</td>\n",
              "      <td>41-50</td>\n",
              "    </tr>\n",
              "    <tr>\n",
              "      <th>4</th>\n",
              "      <td>5</td>\n",
              "      <td>26</td>\n",
              "      <td>b</td>\n",
              "      <td>2.0</td>\n",
              "      <td>Y</td>\n",
              "      <td>2.0</td>\n",
              "      <td>radiotherapy</td>\n",
              "      <td>S</td>\n",
              "      <td>D</td>\n",
              "      <td>2.0</td>\n",
              "      <td>31397.0</td>\n",
              "      <td>7.0</td>\n",
              "      <td>Trauma</td>\n",
              "      <td>Extreme</td>\n",
              "      <td>2.0</td>\n",
              "      <td>51-60</td>\n",
              "      <td>5558.0</td>\n",
              "      <td>41-50</td>\n",
              "    </tr>\n",
              "  </tbody>\n",
              "</table>\n",
              "</div>\n",
              "      <button class=\"colab-df-convert\" onclick=\"convertToInteractive('df-3d660241-867c-4227-b455-a42f48dac864')\"\n",
              "              title=\"Convert this dataframe to an interactive table.\"\n",
              "              style=\"display:none;\">\n",
              "        \n",
              "  <svg xmlns=\"http://www.w3.org/2000/svg\" height=\"24px\"viewBox=\"0 0 24 24\"\n",
              "       width=\"24px\">\n",
              "    <path d=\"M0 0h24v24H0V0z\" fill=\"none\"/>\n",
              "    <path d=\"M18.56 5.44l.94 2.06.94-2.06 2.06-.94-2.06-.94-.94-2.06-.94 2.06-2.06.94zm-11 1L8.5 8.5l.94-2.06 2.06-.94-2.06-.94L8.5 2.5l-.94 2.06-2.06.94zm10 10l.94 2.06.94-2.06 2.06-.94-2.06-.94-.94-2.06-.94 2.06-2.06.94z\"/><path d=\"M17.41 7.96l-1.37-1.37c-.4-.4-.92-.59-1.43-.59-.52 0-1.04.2-1.43.59L10.3 9.45l-7.72 7.72c-.78.78-.78 2.05 0 2.83L4 21.41c.39.39.9.59 1.41.59.51 0 1.02-.2 1.41-.59l7.78-7.78 2.81-2.81c.8-.78.8-2.07 0-2.86zM5.41 20L4 18.59l7.72-7.72 1.47 1.35L5.41 20z\"/>\n",
              "  </svg>\n",
              "      </button>\n",
              "      \n",
              "  <style>\n",
              "    .colab-df-container {\n",
              "      display:flex;\n",
              "      flex-wrap:wrap;\n",
              "      gap: 12px;\n",
              "    }\n",
              "\n",
              "    .colab-df-convert {\n",
              "      background-color: #E8F0FE;\n",
              "      border: none;\n",
              "      border-radius: 50%;\n",
              "      cursor: pointer;\n",
              "      display: none;\n",
              "      fill: #1967D2;\n",
              "      height: 32px;\n",
              "      padding: 0 0 0 0;\n",
              "      width: 32px;\n",
              "    }\n",
              "\n",
              "    .colab-df-convert:hover {\n",
              "      background-color: #E2EBFA;\n",
              "      box-shadow: 0px 1px 2px rgba(60, 64, 67, 0.3), 0px 1px 3px 1px rgba(60, 64, 67, 0.15);\n",
              "      fill: #174EA6;\n",
              "    }\n",
              "\n",
              "    [theme=dark] .colab-df-convert {\n",
              "      background-color: #3B4455;\n",
              "      fill: #D2E3FC;\n",
              "    }\n",
              "\n",
              "    [theme=dark] .colab-df-convert:hover {\n",
              "      background-color: #434B5C;\n",
              "      box-shadow: 0px 1px 3px 1px rgba(0, 0, 0, 0.15);\n",
              "      filter: drop-shadow(0px 1px 2px rgba(0, 0, 0, 0.3));\n",
              "      fill: #FFFFFF;\n",
              "    }\n",
              "  </style>\n",
              "\n",
              "      <script>\n",
              "        const buttonEl =\n",
              "          document.querySelector('#df-3d660241-867c-4227-b455-a42f48dac864 button.colab-df-convert');\n",
              "        buttonEl.style.display =\n",
              "          google.colab.kernel.accessAllowed ? 'block' : 'none';\n",
              "\n",
              "        async function convertToInteractive(key) {\n",
              "          const element = document.querySelector('#df-3d660241-867c-4227-b455-a42f48dac864');\n",
              "          const dataTable =\n",
              "            await google.colab.kernel.invokeFunction('convertToInteractive',\n",
              "                                                     [key], {});\n",
              "          if (!dataTable) return;\n",
              "\n",
              "          const docLinkHtml = 'Like what you see? Visit the ' +\n",
              "            '<a target=\"_blank\" href=https://colab.research.google.com/notebooks/data_table.ipynb>data table notebook</a>'\n",
              "            + ' to learn more about interactive tables.';\n",
              "          element.innerHTML = '';\n",
              "          dataTable['output_type'] = 'display_data';\n",
              "          await google.colab.output.renderOutput(dataTable, element);\n",
              "          const docLink = document.createElement('div');\n",
              "          docLink.innerHTML = docLinkHtml;\n",
              "          element.appendChild(docLink);\n",
              "        }\n",
              "      </script>\n",
              "    </div>\n",
              "  </div>\n",
              "  "
            ]
          },
          "metadata": {},
          "execution_count": 3
        }
      ],
      "source": [
        "train.head()"
      ]
    },
    {
      "cell_type": "code",
      "execution_count": null,
      "metadata": {
        "id": "htHzDQHu0Ss1",
        "outputId": "df04f3fe-aefd-4f0d-fd42-9947439f5b21",
        "colab": {
          "base_uri": "https://localhost:8080/"
        }
      },
      "outputs": [
        {
          "output_type": "stream",
          "name": "stdout",
          "text": [
            "<class 'pandas.core.frame.DataFrame'>\n",
            "RangeIndex: 285290 entries, 0 to 285289\n",
            "Data columns (total 18 columns):\n",
            " #   Column                             Non-Null Count   Dtype  \n",
            "---  ------                             --------------   -----  \n",
            " 0   case_id                            285290 non-null  int64  \n",
            " 1   Hospital_code                      285290 non-null  int64  \n",
            " 2   Hospital_type_code                 285290 non-null  object \n",
            " 3   City_Code_Hospital                 285289 non-null  float64\n",
            " 4   Hospital_region_code               285289 non-null  object \n",
            " 5   Available Extra Rooms in Hospital  285289 non-null  float64\n",
            " 6   Department                         285289 non-null  object \n",
            " 7   Ward_Type                          285289 non-null  object \n",
            " 8   Ward_Facility_Code                 285289 non-null  object \n",
            " 9   Bed Grade                          285176 non-null  float64\n",
            " 10  patientid                          285289 non-null  float64\n",
            " 11  City_Code_Patient                  281346 non-null  float64\n",
            " 12  Type of Admission                  285289 non-null  object \n",
            " 13  Severity of Illness                285289 non-null  object \n",
            " 14  Visitors with Patient              285289 non-null  float64\n",
            " 15  Age                                285289 non-null  object \n",
            " 16  Admission_Deposit                  285289 non-null  float64\n",
            " 17  Stay                               285289 non-null  object \n",
            "dtypes: float64(7), int64(2), object(9)\n",
            "memory usage: 39.2+ MB\n"
          ]
        },
        {
          "output_type": "execute_result",
          "data": {
            "text/plain": [
              "array(['0-10', '41-50', '31-40', '11-20', '51-60', '21-30', '71-80',\n",
              "       'More than 100 Days', '81-90', '61-70', '91-100', nan],\n",
              "      dtype=object)"
            ]
          },
          "metadata": {},
          "execution_count": 4
        }
      ],
      "source": [
        "train.info()\n",
        "train.Stay.unique()"
      ]
    },
    {
      "cell_type": "markdown",
      "source": [
        " NA values in train dataset"
      ],
      "metadata": {
        "id": "oTJLdlKx1k_z"
      }
    },
    {
      "cell_type": "code",
      "execution_count": null,
      "metadata": {
        "id": "2JRdxfDM0Ss1",
        "outputId": "d441d3a1-1ec5-4457-f63e-acab3a3e16bb",
        "colab": {
          "base_uri": "https://localhost:8080/"
        }
      },
      "outputs": [
        {
          "output_type": "execute_result",
          "data": {
            "text/plain": [
              "City_Code_Patient                    3944\n",
              "Bed Grade                             114\n",
              "patientid                               1\n",
              "Admission_Deposit                       1\n",
              "Age                                     1\n",
              "Visitors with Patient                   1\n",
              "Severity of Illness                     1\n",
              "Type of Admission                       1\n",
              "Stay                                    1\n",
              "Ward_Facility_Code                      1\n",
              "Ward_Type                               1\n",
              "Department                              1\n",
              "Available Extra Rooms in Hospital       1\n",
              "Hospital_region_code                    1\n",
              "City_Code_Hospital                      1\n",
              "Hospital_code                           0\n",
              "Hospital_type_code                      0\n",
              "case_id                                 0\n",
              "dtype: int64"
            ]
          },
          "metadata": {},
          "execution_count": 5
        }
      ],
      "source": [
        "\n",
        "train.isnull().sum().sort_values(ascending = False)"
      ]
    },
    {
      "cell_type": "markdown",
      "source": [
        "NA values in test dataset"
      ],
      "metadata": {
        "id": "CWl5XdI41p4W"
      }
    },
    {
      "cell_type": "code",
      "execution_count": null,
      "metadata": {
        "id": "VRqr4tez0Ss2",
        "outputId": "c84a8e0b-609b-4756-beda-dc9e9bb86d23",
        "colab": {
          "base_uri": "https://localhost:8080/"
        }
      },
      "outputs": [
        {
          "output_type": "execute_result",
          "data": {
            "text/plain": [
              "City_Code_Patient                    2157\n",
              "Bed Grade                              35\n",
              "case_id                                 0\n",
              "Age                                     0\n",
              "Visitors with Patient                   0\n",
              "Severity of Illness                     0\n",
              "Type of Admission                       0\n",
              "patientid                               0\n",
              "Ward_Facility_Code                      0\n",
              "Hospital_code                           0\n",
              "Ward_Type                               0\n",
              "Department                              0\n",
              "Available Extra Rooms in Hospital       0\n",
              "Hospital_region_code                    0\n",
              "City_Code_Hospital                      0\n",
              "Hospital_type_code                      0\n",
              "Admission_Deposit                       0\n",
              "dtype: int64"
            ]
          },
          "metadata": {},
          "execution_count": 6
        }
      ],
      "source": [
        "\n",
        "test.isnull().sum().sort_values(ascending = False)"
      ]
    },
    {
      "cell_type": "markdown",
      "source": [
        "Dimension of train and test dataset"
      ],
      "metadata": {
        "id": "rfTie1511taw"
      }
    },
    {
      "cell_type": "code",
      "execution_count": null,
      "metadata": {
        "id": "jnkqhLmI0Ss2",
        "outputId": "8cb9b847-dfb5-4e30-cf18-ade3dc267a74",
        "colab": {
          "base_uri": "https://localhost:8080/"
        }
      },
      "outputs": [
        {
          "output_type": "execute_result",
          "data": {
            "text/plain": [
              "(285290, 18)"
            ]
          },
          "metadata": {},
          "execution_count": 7
        }
      ],
      "source": [
        "train.shape"
      ]
    },
    {
      "cell_type": "code",
      "execution_count": null,
      "metadata": {
        "id": "H3tbkAHN0Ss2",
        "outputId": "558af068-2842-4d18-942c-b6677be7e39a",
        "colab": {
          "base_uri": "https://localhost:8080/"
        }
      },
      "outputs": [
        {
          "output_type": "execute_result",
          "data": {
            "text/plain": [
              "(137057, 17)"
            ]
          },
          "metadata": {},
          "execution_count": 8
        }
      ],
      "source": [
        "test.shape"
      ]
    },
    {
      "cell_type": "markdown",
      "source": [
        "Number of distinct observations in train and test dataset"
      ],
      "metadata": {
        "id": "p8X7tEfO1z9I"
      }
    },
    {
      "cell_type": "code",
      "execution_count": null,
      "metadata": {
        "id": "Zn9qWHP50Ss3",
        "outputId": "eac43e09-435c-482f-c29e-86ff3a5109e8",
        "colab": {
          "base_uri": "https://localhost:8080/"
        }
      },
      "outputs": [
        {
          "output_type": "stream",
          "name": "stdout",
          "text": [
            "case_id : 285290\n",
            "Hospital_code : 32\n",
            "Hospital_type_code : 7\n",
            "City_Code_Hospital : 11\n",
            "Hospital_region_code : 3\n",
            "Available Extra Rooms in Hospital : 18\n",
            "Department : 5\n",
            "Ward_Type : 6\n",
            "Ward_Facility_Code : 6\n",
            "Bed Grade : 4\n",
            "patientid : 73813\n",
            "City_Code_Patient : 37\n",
            "Type of Admission : 3\n",
            "Severity of Illness : 3\n",
            "Visitors with Patient : 28\n",
            "Age : 10\n",
            "Admission_Deposit : 7243\n",
            "Stay : 11\n"
          ]
        }
      ],
      "source": [
        "\n",
        "for i in train.columns:\n",
        "    print(i, ':', train[i].nunique())"
      ]
    },
    {
      "cell_type": "code",
      "execution_count": null,
      "metadata": {
        "id": "dS9qa4mb0Ss3",
        "outputId": "ae8ea703-e32d-4719-b513-68696183d392",
        "colab": {
          "base_uri": "https://localhost:8080/"
        }
      },
      "outputs": [
        {
          "output_type": "stream",
          "name": "stdout",
          "text": [
            "case_id : 137057\n",
            "Hospital_code : 32\n",
            "Hospital_type_code : 7\n",
            "City_Code_Hospital : 11\n",
            "Hospital_region_code : 3\n",
            "Available Extra Rooms in Hospital : 15\n",
            "Department : 5\n",
            "Ward_Type : 6\n",
            "Ward_Facility_Code : 6\n",
            "Bed Grade : 4\n",
            "patientid : 39607\n",
            "City_Code_Patient : 37\n",
            "Type of Admission : 3\n",
            "Severity of Illness : 3\n",
            "Visitors with Patient : 27\n",
            "Age : 10\n",
            "Admission_Deposit : 6609\n"
          ]
        }
      ],
      "source": [
        "\n",
        "for i in test.columns:\n",
        "    print(i, ':', test[i].nunique())"
      ]
    },
    {
      "cell_type": "markdown",
      "metadata": {
        "id": "7YykpUGI0Ss3"
      },
      "source": [
        "### Data Preparation"
      ]
    },
    {
      "cell_type": "code",
      "execution_count": null,
      "metadata": {
        "id": "45iKX-YH0Ss3"
      },
      "outputs": [],
      "source": [
        "\n",
        "train['Bed Grade'].fillna(train['Bed Grade'].mode()[0], inplace = True)\n",
        "test['Bed Grade'].fillna(test['Bed Grade'].mode()[0], inplace = True)"
      ]
    },
    {
      "cell_type": "code",
      "execution_count": null,
      "metadata": {
        "id": "8PJV1MTo0Ss4"
      },
      "outputs": [],
      "source": [
        "\n",
        "train['City_Code_Patient'].fillna(train['City_Code_Patient'].mode()[0], inplace = True)\n",
        "test['City_Code_Patient'].fillna(test['City_Code_Patient'].mode()[0], inplace = True)"
      ]
    },
    {
      "cell_type": "code",
      "execution_count": null,
      "metadata": {
        "id": "YP2Axbno0Ss4"
      },
      "outputs": [],
      "source": [
        "\n",
        "from sklearn.preprocessing import LabelEncoder\n",
        "le = LabelEncoder()\n",
        "train['Stay'] = le.fit_transform(train['Stay'].astype('str'))"
      ]
    },
    {
      "cell_type": "code",
      "execution_count": null,
      "metadata": {
        "id": "j5koavim0Ss4",
        "outputId": "3c1e7d38-af0c-40f8-9893-6573ce810583",
        "colab": {
          "base_uri": "https://localhost:8080/",
          "height": 409
        }
      },
      "outputs": [
        {
          "output_type": "execute_result",
          "data": {
            "text/plain": [
              "   case_id  Hospital_code Hospital_type_code  City_Code_Hospital  \\\n",
              "0        1              8                  c                 3.0   \n",
              "1        2              2                  c                 5.0   \n",
              "2        3             10                  e                 1.0   \n",
              "3        4             26                  b                 2.0   \n",
              "4        5             26                  b                 2.0   \n",
              "\n",
              "  Hospital_region_code  Available Extra Rooms in Hospital    Department  \\\n",
              "0                    Z                                3.0  radiotherapy   \n",
              "1                    Z                                2.0  radiotherapy   \n",
              "2                    X                                2.0    anesthesia   \n",
              "3                    Y                                2.0  radiotherapy   \n",
              "4                    Y                                2.0  radiotherapy   \n",
              "\n",
              "  Ward_Type Ward_Facility_Code  Bed Grade  patientid  City_Code_Patient  \\\n",
              "0         R                  F        2.0    31397.0                7.0   \n",
              "1         S                  F        2.0    31397.0                7.0   \n",
              "2         S                  E        2.0    31397.0                7.0   \n",
              "3         R                  D        2.0    31397.0                7.0   \n",
              "4         S                  D        2.0    31397.0                7.0   \n",
              "\n",
              "  Type of Admission Severity of Illness  Visitors with Patient    Age  \\\n",
              "0         Emergency             Extreme                    2.0  51-60   \n",
              "1            Trauma             Extreme                    2.0  51-60   \n",
              "2            Trauma             Extreme                    2.0  51-60   \n",
              "3            Trauma             Extreme                    2.0  51-60   \n",
              "4            Trauma             Extreme                    2.0  51-60   \n",
              "\n",
              "   Admission_Deposit  Stay  \n",
              "0             4911.0     0  \n",
              "1             5954.0     4  \n",
              "2             4745.0     3  \n",
              "3             7272.0     4  \n",
              "4             5558.0     4  "
            ],
            "text/html": [
              "\n",
              "  <div id=\"df-edc93537-11e0-4aef-b573-89a1a5b45280\">\n",
              "    <div class=\"colab-df-container\">\n",
              "      <div>\n",
              "<style scoped>\n",
              "    .dataframe tbody tr th:only-of-type {\n",
              "        vertical-align: middle;\n",
              "    }\n",
              "\n",
              "    .dataframe tbody tr th {\n",
              "        vertical-align: top;\n",
              "    }\n",
              "\n",
              "    .dataframe thead th {\n",
              "        text-align: right;\n",
              "    }\n",
              "</style>\n",
              "<table border=\"1\" class=\"dataframe\">\n",
              "  <thead>\n",
              "    <tr style=\"text-align: right;\">\n",
              "      <th></th>\n",
              "      <th>case_id</th>\n",
              "      <th>Hospital_code</th>\n",
              "      <th>Hospital_type_code</th>\n",
              "      <th>City_Code_Hospital</th>\n",
              "      <th>Hospital_region_code</th>\n",
              "      <th>Available Extra Rooms in Hospital</th>\n",
              "      <th>Department</th>\n",
              "      <th>Ward_Type</th>\n",
              "      <th>Ward_Facility_Code</th>\n",
              "      <th>Bed Grade</th>\n",
              "      <th>patientid</th>\n",
              "      <th>City_Code_Patient</th>\n",
              "      <th>Type of Admission</th>\n",
              "      <th>Severity of Illness</th>\n",
              "      <th>Visitors with Patient</th>\n",
              "      <th>Age</th>\n",
              "      <th>Admission_Deposit</th>\n",
              "      <th>Stay</th>\n",
              "    </tr>\n",
              "  </thead>\n",
              "  <tbody>\n",
              "    <tr>\n",
              "      <th>0</th>\n",
              "      <td>1</td>\n",
              "      <td>8</td>\n",
              "      <td>c</td>\n",
              "      <td>3.0</td>\n",
              "      <td>Z</td>\n",
              "      <td>3.0</td>\n",
              "      <td>radiotherapy</td>\n",
              "      <td>R</td>\n",
              "      <td>F</td>\n",
              "      <td>2.0</td>\n",
              "      <td>31397.0</td>\n",
              "      <td>7.0</td>\n",
              "      <td>Emergency</td>\n",
              "      <td>Extreme</td>\n",
              "      <td>2.0</td>\n",
              "      <td>51-60</td>\n",
              "      <td>4911.0</td>\n",
              "      <td>0</td>\n",
              "    </tr>\n",
              "    <tr>\n",
              "      <th>1</th>\n",
              "      <td>2</td>\n",
              "      <td>2</td>\n",
              "      <td>c</td>\n",
              "      <td>5.0</td>\n",
              "      <td>Z</td>\n",
              "      <td>2.0</td>\n",
              "      <td>radiotherapy</td>\n",
              "      <td>S</td>\n",
              "      <td>F</td>\n",
              "      <td>2.0</td>\n",
              "      <td>31397.0</td>\n",
              "      <td>7.0</td>\n",
              "      <td>Trauma</td>\n",
              "      <td>Extreme</td>\n",
              "      <td>2.0</td>\n",
              "      <td>51-60</td>\n",
              "      <td>5954.0</td>\n",
              "      <td>4</td>\n",
              "    </tr>\n",
              "    <tr>\n",
              "      <th>2</th>\n",
              "      <td>3</td>\n",
              "      <td>10</td>\n",
              "      <td>e</td>\n",
              "      <td>1.0</td>\n",
              "      <td>X</td>\n",
              "      <td>2.0</td>\n",
              "      <td>anesthesia</td>\n",
              "      <td>S</td>\n",
              "      <td>E</td>\n",
              "      <td>2.0</td>\n",
              "      <td>31397.0</td>\n",
              "      <td>7.0</td>\n",
              "      <td>Trauma</td>\n",
              "      <td>Extreme</td>\n",
              "      <td>2.0</td>\n",
              "      <td>51-60</td>\n",
              "      <td>4745.0</td>\n",
              "      <td>3</td>\n",
              "    </tr>\n",
              "    <tr>\n",
              "      <th>3</th>\n",
              "      <td>4</td>\n",
              "      <td>26</td>\n",
              "      <td>b</td>\n",
              "      <td>2.0</td>\n",
              "      <td>Y</td>\n",
              "      <td>2.0</td>\n",
              "      <td>radiotherapy</td>\n",
              "      <td>R</td>\n",
              "      <td>D</td>\n",
              "      <td>2.0</td>\n",
              "      <td>31397.0</td>\n",
              "      <td>7.0</td>\n",
              "      <td>Trauma</td>\n",
              "      <td>Extreme</td>\n",
              "      <td>2.0</td>\n",
              "      <td>51-60</td>\n",
              "      <td>7272.0</td>\n",
              "      <td>4</td>\n",
              "    </tr>\n",
              "    <tr>\n",
              "      <th>4</th>\n",
              "      <td>5</td>\n",
              "      <td>26</td>\n",
              "      <td>b</td>\n",
              "      <td>2.0</td>\n",
              "      <td>Y</td>\n",
              "      <td>2.0</td>\n",
              "      <td>radiotherapy</td>\n",
              "      <td>S</td>\n",
              "      <td>D</td>\n",
              "      <td>2.0</td>\n",
              "      <td>31397.0</td>\n",
              "      <td>7.0</td>\n",
              "      <td>Trauma</td>\n",
              "      <td>Extreme</td>\n",
              "      <td>2.0</td>\n",
              "      <td>51-60</td>\n",
              "      <td>5558.0</td>\n",
              "      <td>4</td>\n",
              "    </tr>\n",
              "  </tbody>\n",
              "</table>\n",
              "</div>\n",
              "      <button class=\"colab-df-convert\" onclick=\"convertToInteractive('df-edc93537-11e0-4aef-b573-89a1a5b45280')\"\n",
              "              title=\"Convert this dataframe to an interactive table.\"\n",
              "              style=\"display:none;\">\n",
              "        \n",
              "  <svg xmlns=\"http://www.w3.org/2000/svg\" height=\"24px\"viewBox=\"0 0 24 24\"\n",
              "       width=\"24px\">\n",
              "    <path d=\"M0 0h24v24H0V0z\" fill=\"none\"/>\n",
              "    <path d=\"M18.56 5.44l.94 2.06.94-2.06 2.06-.94-2.06-.94-.94-2.06-.94 2.06-2.06.94zm-11 1L8.5 8.5l.94-2.06 2.06-.94-2.06-.94L8.5 2.5l-.94 2.06-2.06.94zm10 10l.94 2.06.94-2.06 2.06-.94-2.06-.94-.94-2.06-.94 2.06-2.06.94z\"/><path d=\"M17.41 7.96l-1.37-1.37c-.4-.4-.92-.59-1.43-.59-.52 0-1.04.2-1.43.59L10.3 9.45l-7.72 7.72c-.78.78-.78 2.05 0 2.83L4 21.41c.39.39.9.59 1.41.59.51 0 1.02-.2 1.41-.59l7.78-7.78 2.81-2.81c.8-.78.8-2.07 0-2.86zM5.41 20L4 18.59l7.72-7.72 1.47 1.35L5.41 20z\"/>\n",
              "  </svg>\n",
              "      </button>\n",
              "      \n",
              "  <style>\n",
              "    .colab-df-container {\n",
              "      display:flex;\n",
              "      flex-wrap:wrap;\n",
              "      gap: 12px;\n",
              "    }\n",
              "\n",
              "    .colab-df-convert {\n",
              "      background-color: #E8F0FE;\n",
              "      border: none;\n",
              "      border-radius: 50%;\n",
              "      cursor: pointer;\n",
              "      display: none;\n",
              "      fill: #1967D2;\n",
              "      height: 32px;\n",
              "      padding: 0 0 0 0;\n",
              "      width: 32px;\n",
              "    }\n",
              "\n",
              "    .colab-df-convert:hover {\n",
              "      background-color: #E2EBFA;\n",
              "      box-shadow: 0px 1px 2px rgba(60, 64, 67, 0.3), 0px 1px 3px 1px rgba(60, 64, 67, 0.15);\n",
              "      fill: #174EA6;\n",
              "    }\n",
              "\n",
              "    [theme=dark] .colab-df-convert {\n",
              "      background-color: #3B4455;\n",
              "      fill: #D2E3FC;\n",
              "    }\n",
              "\n",
              "    [theme=dark] .colab-df-convert:hover {\n",
              "      background-color: #434B5C;\n",
              "      box-shadow: 0px 1px 3px 1px rgba(0, 0, 0, 0.15);\n",
              "      filter: drop-shadow(0px 1px 2px rgba(0, 0, 0, 0.3));\n",
              "      fill: #FFFFFF;\n",
              "    }\n",
              "  </style>\n",
              "\n",
              "      <script>\n",
              "        const buttonEl =\n",
              "          document.querySelector('#df-edc93537-11e0-4aef-b573-89a1a5b45280 button.colab-df-convert');\n",
              "        buttonEl.style.display =\n",
              "          google.colab.kernel.accessAllowed ? 'block' : 'none';\n",
              "\n",
              "        async function convertToInteractive(key) {\n",
              "          const element = document.querySelector('#df-edc93537-11e0-4aef-b573-89a1a5b45280');\n",
              "          const dataTable =\n",
              "            await google.colab.kernel.invokeFunction('convertToInteractive',\n",
              "                                                     [key], {});\n",
              "          if (!dataTable) return;\n",
              "\n",
              "          const docLinkHtml = 'Like what you see? Visit the ' +\n",
              "            '<a target=\"_blank\" href=https://colab.research.google.com/notebooks/data_table.ipynb>data table notebook</a>'\n",
              "            + ' to learn more about interactive tables.';\n",
              "          element.innerHTML = '';\n",
              "          dataTable['output_type'] = 'display_data';\n",
              "          await google.colab.output.renderOutput(dataTable, element);\n",
              "          const docLink = document.createElement('div');\n",
              "          docLink.innerHTML = docLinkHtml;\n",
              "          element.appendChild(docLink);\n",
              "        }\n",
              "      </script>\n",
              "    </div>\n",
              "  </div>\n",
              "  "
            ]
          },
          "metadata": {},
          "execution_count": 14
        }
      ],
      "source": [
        "train.head()"
      ]
    },
    {
      "cell_type": "code",
      "execution_count": null,
      "metadata": {
        "id": "nRXtDbvw0Ss4",
        "outputId": "af77c92a-2344-46b3-e81f-a01abd5bd96e",
        "colab": {
          "base_uri": "https://localhost:8080/"
        }
      },
      "outputs": [
        {
          "output_type": "execute_result",
          "data": {
            "text/plain": [
              "(422347, 18)"
            ]
          },
          "metadata": {},
          "execution_count": 15
        }
      ],
      "source": [
        "\n",
        "test['Stay'] = -1\n",
        "df = pd.concat([train, test])\n",
        "df.shape"
      ]
    },
    {
      "cell_type": "code",
      "execution_count": null,
      "metadata": {
        "id": "hG0GnIKI0Ss5"
      },
      "outputs": [],
      "source": [
        "\n",
        "for i in ['Hospital_type_code', 'Hospital_region_code', 'Department',\n",
        "          'Ward_Type', 'Ward_Facility_Code', 'Type of Admission', 'Severity of Illness', 'Age']:\n",
        "    le = LabelEncoder()\n",
        "    df[i] = le.fit_transform(df[i].astype(str))"
      ]
    },
    {
      "cell_type": "code",
      "execution_count": null,
      "metadata": {
        "id": "aBizholo0Ss5"
      },
      "outputs": [],
      "source": [
        "\n",
        "train = df[df['Stay']!=-1]\n",
        "test = df[df['Stay']==-1]"
      ]
    },
    {
      "cell_type": "markdown",
      "metadata": {
        "id": "9ENCWXhy0Ss5"
      },
      "source": [
        "### Feature Engineering"
      ]
    },
    {
      "cell_type": "code",
      "execution_count": null,
      "metadata": {
        "id": "qhns_4lg0Ss5"
      },
      "outputs": [],
      "source": [
        "def get_countid_enocde(train, test, cols, name):\n",
        "  temp = train.groupby(cols)['case_id'].count().reset_index().rename(columns = {'case_id': name})\n",
        "  temp2 = test.groupby(cols)['case_id'].count().reset_index().rename(columns = {'case_id': name})\n",
        "  train = pd.merge(train, temp, how='left', on= cols)\n",
        "  test = pd.merge(test,temp2, how='left', on= cols)\n",
        "  train[name] = train[name].astype('float')\n",
        "  test[name] = test[name].astype('float')\n",
        "  train[name].fillna(np.median(temp[name]), inplace = True)\n",
        "  test[name].fillna(np.median(temp2[name]), inplace = True)\n",
        "  return train, test"
      ]
    },
    {
      "cell_type": "code",
      "execution_count": null,
      "metadata": {
        "id": "j8WbQmvE0Ss5"
      },
      "outputs": [],
      "source": [
        "train, test = get_countid_enocde(train, test, ['patientid'], name = 'count_id_patient')\n",
        "train, test = get_countid_enocde(train, test,\n",
        "                                 ['patientid', 'Hospital_region_code'], name = 'count_id_patient_hospitalCode')\n",
        "train, test = get_countid_enocde(train, test,\n",
        "                                 ['patientid', 'Ward_Facility_Code'], name = 'count_id_patient_wardfacilityCode')"
      ]
    },
    {
      "cell_type": "markdown",
      "source": [
        "Droping duplicate columns"
      ],
      "metadata": {
        "id": "9e3I7h9w2BOy"
      }
    },
    {
      "cell_type": "code",
      "execution_count": null,
      "metadata": {
        "id": "3o4nKbG20Ss6"
      },
      "outputs": [],
      "source": [
        "\n",
        "test1 = test.drop(['Stay', 'patientid', 'Hospital_region_code', 'Ward_Facility_Code'], axis =1)\n",
        "train1 = train.drop(['case_id', 'patientid', 'Hospital_region_code', 'Ward_Facility_Code'], axis =1)"
      ]
    },
    {
      "cell_type": "markdown",
      "source": [
        "Splitting train data for Naive Bayes and XGBoost"
      ],
      "metadata": {
        "id": "u7-j3aGX2FBm"
      }
    },
    {
      "cell_type": "code",
      "execution_count": null,
      "metadata": {
        "id": "GMe4bI-u0Ss6"
      },
      "outputs": [],
      "source": [
        "\n",
        "X1 = train1.drop('Stay', axis =1)\n",
        "y1 = train1['Stay']\n",
        "from sklearn.model_selection import train_test_split\n",
        "X_train, X_test, y_train, y_test = train_test_split(X1, y1, test_size =0.20, random_state =100)"
      ]
    },
    {
      "cell_type": "markdown",
      "metadata": {
        "id": "sIjSJO-n0Ss6"
      },
      "source": [
        "## Models"
      ]
    },
    {
      "cell_type": "markdown",
      "metadata": {
        "id": "of0Gilcg0Ss6"
      },
      "source": [
        "### Naive Bayes Model"
      ]
    },
    {
      "cell_type": "code",
      "execution_count": null,
      "metadata": {
        "id": "9qA5CBjZ0Ss6"
      },
      "outputs": [],
      "source": [
        "from sklearn.naive_bayes import GaussianNB\n",
        "target = y_train.values\n",
        "features = X_train.values\n",
        "classifier_nb = GaussianNB()\n",
        "model_nb = classifier_nb.fit(features, target)"
      ]
    },
    {
      "cell_type": "code",
      "execution_count": null,
      "metadata": {
        "id": "-uF2e7Hj0Ss7",
        "outputId": "270666c2-2775-48c9-8f7e-e79c25142cc4"
      },
      "outputs": [
        {
          "name": "stdout",
          "output_type": "stream",
          "text": [
            "Acurracy: 34.55439015199096\n"
          ]
        }
      ],
      "source": [
        "prediction_nb = model_nb.predict(X_test)\n",
        "from sklearn.metrics import accuracy_score\n",
        "acc_score_nb = accuracy_score(prediction_nb,y_test)\n",
        "print(\"Acurracy:\", acc_score_nb*100)"
      ]
    },
    {
      "cell_type": "markdown",
      "metadata": {
        "id": "PXj6j2tL0Ss7"
      },
      "source": [
        "### XGBoost Model"
      ]
    },
    {
      "cell_type": "code",
      "execution_count": null,
      "metadata": {
        "id": "jzr1Lzau0Ss7"
      },
      "outputs": [],
      "source": [
        "import xgboost\n",
        "classifier_xgb = xgboost.XGBClassifier(max_depth=4, learning_rate=0.1, n_estimators=800,\n",
        "                                  objective='multi:softmax', reg_alpha=0.5, reg_lambda=1.5,\n",
        "                                  booster='gbtree', n_jobs=4, min_child_weight=2, base_score= 0.75)"
      ]
    },
    {
      "cell_type": "code",
      "execution_count": null,
      "metadata": {
        "id": "27ERPRow0Ss7"
      },
      "outputs": [],
      "source": [
        "model_xgb = classifier_xgb.fit(X_train, y_train)"
      ]
    },
    {
      "cell_type": "code",
      "execution_count": null,
      "metadata": {
        "id": "KvmaA_JA0Ss7",
        "outputId": "3207dc1e-0bba-4951-9abf-0d6850175e2d"
      },
      "outputs": [
        {
          "name": "stdout",
          "output_type": "stream",
          "text": [
            "Accuracy: 43.047355859816605\n"
          ]
        }
      ],
      "source": [
        "prediction_xgb = model_xgb.predict(X_test)\n",
        "acc_score_xgb = accuracy_score(prediction_xgb,y_test)\n",
        "print(\"Accuracy:\", acc_score_xgb*100)"
      ]
    },
    {
      "cell_type": "markdown",
      "metadata": {
        "id": "soS_shSO0Ss8"
      },
      "source": [
        "### Neural Network"
      ]
    },
    {
      "cell_type": "markdown",
      "source": [
        "Segregation of features and target variable and Data Scaling"
      ],
      "metadata": {
        "id": "e3ZIgbT-2RjZ"
      }
    },
    {
      "cell_type": "code",
      "execution_count": null,
      "metadata": {
        "id": "vaXvaFnG0Ss8",
        "outputId": "1f40711d-c82e-4472-f678-637768f63604"
      },
      "outputs": [
        {
          "name": "stdout",
          "output_type": "stream",
          "text": [
            "Index(['case_id', 'Hospital_code', 'Hospital_type_code', 'City_Code_Hospital',\n",
            "       'Hospital_region_code', 'Available Extra Rooms in Hospital',\n",
            "       'Department', 'Ward_Type', 'Ward_Facility_Code', 'Bed Grade',\n",
            "       'patientid', 'City_Code_Patient', 'Type of Admission',\n",
            "       'Severity of Illness', 'Visitors with Patient', 'Age',\n",
            "       'Admission_Deposit', 'count_id_patient',\n",
            "       'count_id_patient_hospitalCode', 'count_id_patient_wardfacilityCode'],\n",
            "      dtype='object')\n",
            "Index(['case_id', 'Hospital_code', 'Hospital_type_code', 'City_Code_Hospital',\n",
            "       'Hospital_region_code', 'Available Extra Rooms in Hospital',\n",
            "       'Department', 'Ward_Type', 'Ward_Facility_Code', 'Bed Grade',\n",
            "       'patientid', 'City_Code_Patient', 'Type of Admission',\n",
            "       'Severity of Illness', 'Visitors with Patient', 'Age',\n",
            "       'Admission_Deposit', 'count_id_patient',\n",
            "       'count_id_patient_hospitalCode', 'count_id_patient_wardfacilityCode'],\n",
            "      dtype='object')\n"
          ]
        },
        {
          "data": {
            "text/plain": [
              "(318438, 20)"
            ]
          },
          "execution_count": 27,
          "metadata": {},
          "output_type": "execute_result"
        }
      ],
      "source": [
        "\n",
        "X = train.drop('Stay', axis =1)\n",
        "y = train['Stay']\n",
        "print(X.columns)\n",
        "z = test.drop('Stay', axis = 1)\n",
        "print(z.columns)\n",
        "\n",
        "from sklearn import preprocessing\n",
        "X_scale = preprocessing.scale(X)\n",
        "X_scale.shape"
      ]
    },
    {
      "cell_type": "code",
      "execution_count": null,
      "metadata": {
        "id": "eT_Zko8y0Ss8"
      },
      "outputs": [],
      "source": [
        "X_train, X_test, y_train, y_test = train_test_split(X_scale, y, test_size =0.20, random_state =100)"
      ]
    },
    {
      "cell_type": "code",
      "execution_count": null,
      "metadata": {
        "id": "IQSNd3zq0Ss8"
      },
      "outputs": [],
      "source": [
        "import keras\n",
        "from keras.models import Sequential\n",
        "from keras.layers import Dense\n",
        "import tensorflow as tf"
      ]
    },
    {
      "cell_type": "markdown",
      "source": [
        "Sparse Matrix"
      ],
      "metadata": {
        "id": "edvXkA4Z2VcG"
      }
    },
    {
      "cell_type": "code",
      "execution_count": null,
      "metadata": {
        "id": "Pi4g4MJJ0Ss8"
      },
      "outputs": [],
      "source": [
        "from keras.utils import to_categorical\n",
        "\n",
        "a = to_categorical(y_train)\n",
        "b = to_categorical(y_test)"
      ]
    },
    {
      "cell_type": "markdown",
      "source": [
        "Building the model"
      ],
      "metadata": {
        "id": "_jTvORZC2YQI"
      }
    },
    {
      "cell_type": "code",
      "execution_count": null,
      "metadata": {
        "id": "V4x2g2xU0Ss8"
      },
      "outputs": [],
      "source": [
        "model = Sequential()\n",
        "model.add(Dense(64, activation='relu', input_shape = (254750, 20)))\n",
        "model.add(Dense(128, activation='relu'))\n",
        "model.add(Dense(256, activation='relu'))\n",
        "model.add(Dense(512, activation='relu'))\n",
        "model.add(Dense(512, activation='relu'))\n",
        "model.add(Dense(11, activation='softmax'))"
      ]
    },
    {
      "cell_type": "code",
      "execution_count": null,
      "metadata": {
        "id": "wITG0Yz20Ss9",
        "outputId": "fb7e0202-a64e-4ae0-9e9a-7c918745e039"
      },
      "outputs": [
        {
          "name": "stdout",
          "output_type": "stream",
          "text": [
            "Model: \"sequential\"\n",
            "_________________________________________________________________\n",
            "Layer (type)                 Output Shape              Param #   \n",
            "=================================================================\n",
            "dense (Dense)                (None, 254750, 64)        1344      \n",
            "_________________________________________________________________\n",
            "dense_1 (Dense)              (None, 254750, 128)       8320      \n",
            "_________________________________________________________________\n",
            "dense_2 (Dense)              (None, 254750, 256)       33024     \n",
            "_________________________________________________________________\n",
            "dense_3 (Dense)              (None, 254750, 512)       131584    \n",
            "_________________________________________________________________\n",
            "dense_4 (Dense)              (None, 254750, 512)       262656    \n",
            "_________________________________________________________________\n",
            "dense_5 (Dense)              (None, 254750, 11)        5643      \n",
            "=================================================================\n",
            "Total params: 442,571\n",
            "Trainable params: 442,571\n",
            "Non-trainable params: 0\n",
            "_________________________________________________________________\n"
          ]
        }
      ],
      "source": [
        "model.summary()"
      ]
    },
    {
      "cell_type": "code",
      "execution_count": null,
      "metadata": {
        "id": "LVrpfeld0Ss9"
      },
      "outputs": [],
      "source": [
        "model.compile(optimizer= 'SGD',\n",
        "              loss='categorical_crossentropy',\n",
        "              metrics=['accuracy'])"
      ]
    },
    {
      "cell_type": "code",
      "execution_count": null,
      "metadata": {
        "id": "gW3bqejJ0Ss9",
        "outputId": "ec1215da-14ff-4576-84b3-ce88d51b5a2c"
      },
      "outputs": [
        {
          "name": "stdout",
          "output_type": "stream",
          "text": [
            "Epoch 1/20\n",
            "WARNING:tensorflow:Model was constructed with shape (None, 254750, 20) for input Tensor(\"dense_input:0\", shape=(None, 254750, 20), dtype=float32), but it was called on an input with incompatible shape (None, 20).\n",
            "WARNING:tensorflow:Model was constructed with shape (None, 254750, 20) for input Tensor(\"dense_input:0\", shape=(None, 254750, 20), dtype=float32), but it was called on an input with incompatible shape (None, 20).\n",
            "   1/6369 [..............................] - ETA: 0s - loss: 2.3814 - accuracy: 0.2188WARNING:tensorflow:From /Users/arjunmac/opt/anaconda3/lib/python3.8/site-packages/tensorflow/python/ops/summary_ops_v2.py:1277: stop (from tensorflow.python.eager.profiler) is deprecated and will be removed after 2020-07-01.\n",
            "Instructions for updating:\n",
            "use `tf.profiler.experimental.stop` instead.\n",
            "WARNING:tensorflow:Callbacks method `on_train_batch_end` is slow compared to the batch time (batch time: 0.0027s vs `on_train_batch_end` time: 0.0102s). Check your callbacks.\n",
            "6348/6369 [============================>.] - ETA: 0s - loss: 1.6578 - accuracy: 0.3684WARNING:tensorflow:Model was constructed with shape (None, 254750, 20) for input Tensor(\"dense_input:0\", shape=(None, 254750, 20), dtype=float32), but it was called on an input with incompatible shape (None, 20).\n",
            "6369/6369 [==============================] - 15s 2ms/step - loss: 1.6575 - accuracy: 0.3686 - val_loss: 1.5884 - val_accuracy: 0.3953\n",
            "Epoch 2/20\n",
            "6369/6369 [==============================] - 17s 3ms/step - loss: 1.5681 - accuracy: 0.3995 - val_loss: 1.5608 - val_accuracy: 0.4016\n",
            "Epoch 3/20\n",
            "6369/6369 [==============================] - 19s 3ms/step - loss: 1.5468 - accuracy: 0.4073 - val_loss: 1.5455 - val_accuracy: 0.4088\n",
            "Epoch 4/20\n",
            "6369/6369 [==============================] - 18s 3ms/step - loss: 1.5339 - accuracy: 0.4105 - val_loss: 1.5370 - val_accuracy: 0.4148\n",
            "Epoch 5/20\n",
            "6369/6369 [==============================] - 17s 3ms/step - loss: 1.5244 - accuracy: 0.4146 - val_loss: 1.5325 - val_accuracy: 0.4147\n",
            "Epoch 6/20\n",
            "6369/6369 [==============================] - 17s 3ms/step - loss: 1.5175 - accuracy: 0.4168 - val_loss: 1.5269 - val_accuracy: 0.4153\n",
            "Epoch 7/20\n",
            "6369/6369 [==============================] - 16s 3ms/step - loss: 1.5117 - accuracy: 0.4188 - val_loss: 1.5245 - val_accuracy: 0.4177\n",
            "Epoch 8/20\n",
            "6369/6369 [==============================] - 16s 2ms/step - loss: 1.5069 - accuracy: 0.4198 - val_loss: 1.5201 - val_accuracy: 0.4173\n",
            "Epoch 9/20\n",
            "6369/6369 [==============================] - 15s 2ms/step - loss: 1.5026 - accuracy: 0.4219 - val_loss: 1.5183 - val_accuracy: 0.4181\n",
            "Epoch 10/20\n",
            "6369/6369 [==============================] - 15s 2ms/step - loss: 1.4989 - accuracy: 0.4230 - val_loss: 1.5179 - val_accuracy: 0.4148\n",
            "Epoch 11/20\n",
            "6369/6369 [==============================] - 15s 2ms/step - loss: 1.4955 - accuracy: 0.4252 - val_loss: 1.5131 - val_accuracy: 0.4205\n",
            "Epoch 12/20\n",
            "6369/6369 [==============================] - 16s 2ms/step - loss: 1.4924 - accuracy: 0.4257 - val_loss: 1.5162 - val_accuracy: 0.4186\n",
            "Epoch 13/20\n",
            "6369/6369 [==============================] - 18s 3ms/step - loss: 1.4895 - accuracy: 0.4273 - val_loss: 1.5191 - val_accuracy: 0.4189\n",
            "Epoch 14/20\n",
            "6369/6369 [==============================] - 17s 3ms/step - loss: 1.4868 - accuracy: 0.4277 - val_loss: 1.5153 - val_accuracy: 0.4167\n",
            "Epoch 15/20\n",
            "6369/6369 [==============================] - 17s 3ms/step - loss: 1.4840 - accuracy: 0.4289 - val_loss: 1.5116 - val_accuracy: 0.4181\n",
            "Epoch 16/20\n",
            "6369/6369 [==============================] - 16s 3ms/step - loss: 1.4815 - accuracy: 0.4298 - val_loss: 1.5066 - val_accuracy: 0.4215\n",
            "Epoch 17/20\n",
            "6369/6369 [==============================] - 16s 2ms/step - loss: 1.4790 - accuracy: 0.4303 - val_loss: 1.5139 - val_accuracy: 0.4196\n",
            "Epoch 18/20\n",
            "6369/6369 [==============================] - 15s 2ms/step - loss: 1.4764 - accuracy: 0.4315 - val_loss: 1.5125 - val_accuracy: 0.4168\n",
            "Epoch 19/20\n",
            "6369/6369 [==============================] - 16s 2ms/step - loss: 1.4740 - accuracy: 0.4322 - val_loss: 1.5080 - val_accuracy: 0.4235\n",
            "Epoch 20/20\n",
            "6369/6369 [==============================] - 15s 2ms/step - loss: 1.4718 - accuracy: 0.4334 - val_loss: 1.5090 - val_accuracy: 0.4209\n"
          ]
        },
        {
          "data": {
            "text/plain": [
              "<tensorflow.python.keras.callbacks.History at 0x7ff88fd7b9a0>"
            ]
          },
          "execution_count": 34,
          "metadata": {},
          "output_type": "execute_result"
        }
      ],
      "source": [
        "callbacks = [tf.keras.callbacks.TensorBoard(\"logs_keras\")]\n",
        "model.fit(X_train, a, epochs=20, callbacks=callbacks, validation_split = 0.2)"
      ]
    },
    {
      "cell_type": "code",
      "execution_count": null,
      "metadata": {
        "id": "G9ditcvx0Ss9",
        "outputId": "46061fd8-f146-4b85-96b1-53b4f5f445ca"
      },
      "outputs": [
        {
          "name": "stdout",
          "output_type": "stream",
          "text": [
            "Epoch 1/4\n",
            "6369/6369 [==============================] - 14s 2ms/step - loss: 1.4689 - accuracy: 0.4347 - val_loss: 1.5081 - val_accuracy: 0.4209\n",
            "Epoch 2/4\n",
            "6369/6369 [==============================] - 15s 2ms/step - loss: 1.4669 - accuracy: 0.4353 - val_loss: 1.5071 - val_accuracy: 0.4222\n",
            "Epoch 3/4\n",
            "6369/6369 [==============================] - 14s 2ms/step - loss: 1.4647 - accuracy: 0.4361 - val_loss: 1.5067 - val_accuracy: 0.4188\n",
            "Epoch 4/4\n",
            "6369/6369 [==============================] - 14s 2ms/step - loss: 1.4619 - accuracy: 0.4362 - val_loss: 1.5066 - val_accuracy: 0.4222\n",
            "\n",
            " Model Evaluation\n",
            "1991/1991 [==============================] - 2s 844us/step - loss: 1.5048 - accuracy: 0.4220\n"
          ]
        },
        {
          "data": {
            "text/plain": [
              "[1.5047825574874878, 0.42199471592903137]"
            ]
          },
          "execution_count": 36,
          "metadata": {},
          "output_type": "execute_result"
        }
      ],
      "source": [
        "# Retraining the model with 4 epochs\n",
        "model.fit(X_train, a, epochs=4, validation_split = 0.2)\n",
        "print(\"\\n Model Evaluation\")\n",
        "model.evaluate(X_test,b)"
      ]
    },
    {
      "cell_type": "markdown",
      "metadata": {
        "id": "qT90RfeX0Ss9"
      },
      "source": [
        "# Predictions"
      ]
    },
    {
      "cell_type": "markdown",
      "source": [
        "Naive Bayes"
      ],
      "metadata": {
        "id": "phie6lGW2iKK"
      }
    },
    {
      "cell_type": "code",
      "execution_count": null,
      "metadata": {
        "id": "KU0xeTWo0Ss-"
      },
      "outputs": [],
      "source": [
        "\n",
        "pred_nb = classifier_nb.predict(test1.iloc[:,1:])\n",
        "result_nb = pd.DataFrame(pred_nb, columns=['Stay'])\n",
        "result_nb['case_id'] = test1['case_id']\n",
        "result_nb = result_nb[['case_id', 'Stay']]"
      ]
    },
    {
      "cell_type": "code",
      "execution_count": null,
      "metadata": {
        "id": "ZpalBiFK0Ss-",
        "outputId": "2cac96a3-de2b-4433-bdc7-0cacaba174bc"
      },
      "outputs": [
        {
          "data": {
            "text/html": [
              "<div>\n",
              "<style scoped>\n",
              "    .dataframe tbody tr th:only-of-type {\n",
              "        vertical-align: middle;\n",
              "    }\n",
              "\n",
              "    .dataframe tbody tr th {\n",
              "        vertical-align: top;\n",
              "    }\n",
              "\n",
              "    .dataframe thead th {\n",
              "        text-align: right;\n",
              "    }\n",
              "</style>\n",
              "<table border=\"1\" class=\"dataframe\">\n",
              "  <thead>\n",
              "    <tr style=\"text-align: right;\">\n",
              "      <th></th>\n",
              "      <th>case_id</th>\n",
              "      <th>Stay</th>\n",
              "    </tr>\n",
              "  </thead>\n",
              "  <tbody>\n",
              "    <tr>\n",
              "      <th>0</th>\n",
              "      <td>318439</td>\n",
              "      <td>21-30</td>\n",
              "    </tr>\n",
              "    <tr>\n",
              "      <th>1</th>\n",
              "      <td>318440</td>\n",
              "      <td>51-60</td>\n",
              "    </tr>\n",
              "    <tr>\n",
              "      <th>2</th>\n",
              "      <td>318441</td>\n",
              "      <td>21-30</td>\n",
              "    </tr>\n",
              "    <tr>\n",
              "      <th>3</th>\n",
              "      <td>318442</td>\n",
              "      <td>21-30</td>\n",
              "    </tr>\n",
              "    <tr>\n",
              "      <th>4</th>\n",
              "      <td>318443</td>\n",
              "      <td>31-40</td>\n",
              "    </tr>\n",
              "  </tbody>\n",
              "</table>\n",
              "</div>"
            ],
            "text/plain": [
              "   case_id   Stay\n",
              "0   318439  21-30\n",
              "1   318440  51-60\n",
              "2   318441  21-30\n",
              "3   318442  21-30\n",
              "4   318443  31-40"
            ]
          },
          "execution_count": 38,
          "metadata": {},
          "output_type": "execute_result"
        }
      ],
      "source": [
        "result_nb['Stay'] = result_nb['Stay'].replace({0:'0-10', 1: '11-20', 2: '21-30', 3:'31-40', 4: '41-50', 5: '51-60', 6: '61-70', 7: '71-80', 8: '81-90', 9: '91-100', 10: 'More than 100 Days'})\n",
        "result_nb.head()"
      ]
    },
    {
      "cell_type": "markdown",
      "source": [
        "XGBoost"
      ],
      "metadata": {
        "id": "RX8ZSYd42kZ0"
      }
    },
    {
      "cell_type": "code",
      "execution_count": null,
      "metadata": {
        "id": "S-io0BQS0Ss-"
      },
      "outputs": [],
      "source": [
        "\n",
        "pred_xgb = classifier_xgb.predict(test1.iloc[:,1:])\n",
        "result_xgb = pd.DataFrame(pred_xgb, columns=['Stay'])\n",
        "result_xgb['case_id'] = test1['case_id']\n",
        "result_xgb = result_xgb[['case_id', 'Stay']]"
      ]
    },
    {
      "cell_type": "code",
      "execution_count": null,
      "metadata": {
        "id": "X7Zmu58p0Ss-",
        "outputId": "d2742a55-981a-4117-adca-c924c80eb0a5"
      },
      "outputs": [
        {
          "data": {
            "text/html": [
              "<div>\n",
              "<style scoped>\n",
              "    .dataframe tbody tr th:only-of-type {\n",
              "        vertical-align: middle;\n",
              "    }\n",
              "\n",
              "    .dataframe tbody tr th {\n",
              "        vertical-align: top;\n",
              "    }\n",
              "\n",
              "    .dataframe thead th {\n",
              "        text-align: right;\n",
              "    }\n",
              "</style>\n",
              "<table border=\"1\" class=\"dataframe\">\n",
              "  <thead>\n",
              "    <tr style=\"text-align: right;\">\n",
              "      <th></th>\n",
              "      <th>case_id</th>\n",
              "      <th>Stay</th>\n",
              "    </tr>\n",
              "  </thead>\n",
              "  <tbody>\n",
              "    <tr>\n",
              "      <th>0</th>\n",
              "      <td>318439</td>\n",
              "      <td>0-10</td>\n",
              "    </tr>\n",
              "    <tr>\n",
              "      <th>1</th>\n",
              "      <td>318440</td>\n",
              "      <td>51-60</td>\n",
              "    </tr>\n",
              "    <tr>\n",
              "      <th>2</th>\n",
              "      <td>318441</td>\n",
              "      <td>21-30</td>\n",
              "    </tr>\n",
              "    <tr>\n",
              "      <th>3</th>\n",
              "      <td>318442</td>\n",
              "      <td>21-30</td>\n",
              "    </tr>\n",
              "    <tr>\n",
              "      <th>4</th>\n",
              "      <td>318443</td>\n",
              "      <td>51-60</td>\n",
              "    </tr>\n",
              "  </tbody>\n",
              "</table>\n",
              "</div>"
            ],
            "text/plain": [
              "   case_id   Stay\n",
              "0   318439   0-10\n",
              "1   318440  51-60\n",
              "2   318441  21-30\n",
              "3   318442  21-30\n",
              "4   318443  51-60"
            ]
          },
          "execution_count": 40,
          "metadata": {},
          "output_type": "execute_result"
        }
      ],
      "source": [
        "result_xgb['Stay'] = result_xgb['Stay'].replace({0:'0-10', 1: '11-20', 2: '21-30', 3:'31-40', 4: '41-50', 5: '51-60', 6: '61-70', 7: '71-80', 8: '81-90', 9: '91-100', 10: 'More than 100 Days'})\n",
        "result_xgb.head()"
      ]
    },
    {
      "cell_type": "markdown",
      "source": [
        "Neural Network"
      ],
      "metadata": {
        "id": "93rVc59d2mzN"
      }
    },
    {
      "cell_type": "code",
      "execution_count": null,
      "metadata": {
        "id": "noR6HUhy0Ss-",
        "outputId": "32ed77ed-7ff2-49a5-c2eb-6a745a5bc37a"
      },
      "outputs": [
        {
          "data": {
            "text/plain": [
              "(137057, 20)"
            ]
          },
          "execution_count": 41,
          "metadata": {},
          "output_type": "execute_result"
        }
      ],
      "source": [
        "\n",
        "test_scale = preprocessing.scale(z)\n",
        "test_scale.shape"
      ]
    },
    {
      "cell_type": "code",
      "execution_count": null,
      "metadata": {
        "id": "ucbwSCQ70Ss_",
        "outputId": "b0edc33c-95d6-49d4-a8a9-68aedf3517fb"
      },
      "outputs": [
        {
          "name": "stdout",
          "output_type": "stream",
          "text": [
            "WARNING:tensorflow:From <ipython-input-42-b90ff66bbd9d>:1: Sequential.predict_classes (from tensorflow.python.keras.engine.sequential) is deprecated and will be removed after 2021-01-01.\n",
            "Instructions for updating:\n",
            "Please use instead:* `np.argmax(model.predict(x), axis=-1)`,   if your model does multi-class classification   (e.g. if it uses a `softmax` last-layer activation).* `(model.predict(x) > 0.5).astype(\"int32\")`,   if your model does binary classification   (e.g. if it uses a `sigmoid` last-layer activation).\n",
            "WARNING:tensorflow:Model was constructed with shape (None, 254750, 20) for input Tensor(\"dense_input:0\", shape=(None, 254750, 20), dtype=float32), but it was called on an input with incompatible shape (None, 20).\n"
          ]
        },
        {
          "data": {
            "text/plain": [
              "array([0, 5, 2, ..., 1, 1, 5])"
            ]
          },
          "execution_count": 42,
          "metadata": {},
          "output_type": "execute_result"
        }
      ],
      "source": [
        "pred = model.predict_classes(test_scale)\n",
        "pred"
      ]
    },
    {
      "cell_type": "code",
      "execution_count": null,
      "metadata": {
        "id": "o37EkRWL0Ss_"
      },
      "outputs": [],
      "source": [
        "result_nn = pd.DataFrame(pred, columns=['Stay'])\n",
        "result_nn['case_id'] = test['case_id']\n",
        "result_nn = result_nn[['case_id', 'Stay']]"
      ]
    },
    {
      "cell_type": "code",
      "execution_count": null,
      "metadata": {
        "id": "FlwSuuzg0Ss_",
        "outputId": "0fecb987-8007-4a40-a72f-ce72333646cb"
      },
      "outputs": [
        {
          "data": {
            "text/html": [
              "<div>\n",
              "<style scoped>\n",
              "    .dataframe tbody tr th:only-of-type {\n",
              "        vertical-align: middle;\n",
              "    }\n",
              "\n",
              "    .dataframe tbody tr th {\n",
              "        vertical-align: top;\n",
              "    }\n",
              "\n",
              "    .dataframe thead th {\n",
              "        text-align: right;\n",
              "    }\n",
              "</style>\n",
              "<table border=\"1\" class=\"dataframe\">\n",
              "  <thead>\n",
              "    <tr style=\"text-align: right;\">\n",
              "      <th></th>\n",
              "      <th>case_id</th>\n",
              "      <th>Stay</th>\n",
              "    </tr>\n",
              "  </thead>\n",
              "  <tbody>\n",
              "    <tr>\n",
              "      <th>0</th>\n",
              "      <td>318439</td>\n",
              "      <td>0-10</td>\n",
              "    </tr>\n",
              "    <tr>\n",
              "      <th>1</th>\n",
              "      <td>318440</td>\n",
              "      <td>51-60</td>\n",
              "    </tr>\n",
              "    <tr>\n",
              "      <th>2</th>\n",
              "      <td>318441</td>\n",
              "      <td>21-30</td>\n",
              "    </tr>\n",
              "    <tr>\n",
              "      <th>3</th>\n",
              "      <td>318442</td>\n",
              "      <td>21-30</td>\n",
              "    </tr>\n",
              "    <tr>\n",
              "      <th>4</th>\n",
              "      <td>318443</td>\n",
              "      <td>51-60</td>\n",
              "    </tr>\n",
              "  </tbody>\n",
              "</table>\n",
              "</div>"
            ],
            "text/plain": [
              "   case_id   Stay\n",
              "0   318439   0-10\n",
              "1   318440  51-60\n",
              "2   318441  21-30\n",
              "3   318442  21-30\n",
              "4   318443  51-60"
            ]
          },
          "execution_count": 44,
          "metadata": {},
          "output_type": "execute_result"
        }
      ],
      "source": [
        "result_nn['Stay'] = result_nn['Stay'].replace({0:'0-10', 1: '11-20', 2: '21-30', 3:'31-40', 4: '41-50', 5: '51-60', 6: '61-70', 7: '71-80', 8: '81-90', 9: '91-100', 10: 'More than 100 Days'})\n",
        "result_nn.head()"
      ]
    },
    {
      "cell_type": "markdown",
      "metadata": {
        "id": "sxfRK_BG0Ss_"
      },
      "source": [
        "## Results"
      ]
    },
    {
      "cell_type": "markdown",
      "source": [
        "Naive Bayes"
      ],
      "metadata": {
        "id": "HhF2gC2Q2pfd"
      }
    },
    {
      "cell_type": "code",
      "execution_count": null,
      "metadata": {
        "id": "c7WR-zra0Ss_",
        "outputId": "3ac33d55-ccf0-4f57-abf2-ed48cc2585a3"
      },
      "outputs": [
        {
          "name": "stdout",
          "output_type": "stream",
          "text": [
            "Stay\n",
            "0-10                   2598\n",
            "11-20                 26827\n",
            "21-30                 72206\n",
            "31-40                 15639\n",
            "41-50                   469\n",
            "51-60                 13651\n",
            "61-70                    92\n",
            "71-80                   955\n",
            "81-90                   296\n",
            "91-100                    2\n",
            "More than 100 Days     4322\n",
            "Name: case_id, dtype: int64\n"
          ]
        }
      ],
      "source": [
        "\n",
        "print(result_nb.groupby('Stay')['case_id'].nunique())"
      ]
    },
    {
      "cell_type": "markdown",
      "source": [
        "XGBoost"
      ],
      "metadata": {
        "id": "_GxHJ8NU2r6x"
      }
    },
    {
      "cell_type": "code",
      "execution_count": null,
      "metadata": {
        "id": "hITrDAe70StA",
        "outputId": "ed8701e2-3441-4ccd-d091-f5177851c108"
      },
      "outputs": [
        {
          "name": "stdout",
          "output_type": "stream",
          "text": [
            "Stay\n",
            "0-10                   4373\n",
            "11-20                 39337\n",
            "21-30                 58261\n",
            "31-40                 12100\n",
            "41-50                    61\n",
            "51-60                 19217\n",
            "61-70                    16\n",
            "71-80                   302\n",
            "81-90                  1099\n",
            "91-100                   78\n",
            "More than 100 Days     2213\n",
            "Name: case_id, dtype: int64\n"
          ]
        }
      ],
      "source": [
        "\n",
        "print(result_xgb.groupby('Stay')['case_id'].nunique())"
      ]
    },
    {
      "cell_type": "markdown",
      "source": [
        "Neural Networks"
      ],
      "metadata": {
        "id": "hW49d98u2uI9"
      }
    },
    {
      "cell_type": "code",
      "execution_count": null,
      "metadata": {
        "id": "k2wyMECA0StA",
        "outputId": "c5de471a-0da9-4e4e-ed26-7715dd33cbbb"
      },
      "outputs": [
        {
          "name": "stdout",
          "output_type": "stream",
          "text": [
            "Stay\n",
            "0-10                   5379\n",
            "11-20                 41215\n",
            "21-30                 55240\n",
            "31-40                 10926\n",
            "41-50                     9\n",
            "51-60                 20016\n",
            "71-80                    29\n",
            "81-90                  1126\n",
            "More than 100 Days     3117\n",
            "Name: case_id, dtype: int64\n"
          ]
        }
      ],
      "source": [
        "\n",
        "print(result_nn.groupby('Stay')['case_id'].nunique())"
      ]
    }
  ],
  "metadata": {
    "kernelspec": {
      "display_name": "Python 3",
      "language": "python",
      "name": "python3"
    },
    "language_info": {
      "codemirror_mode": {
        "name": "ipython",
        "version": 3
      },
      "file_extension": ".py",
      "mimetype": "text/x-python",
      "name": "python",
      "nbconvert_exporter": "python",
      "pygments_lexer": "ipython3",
      "version": "3.8.3"
    },
    "varInspector": {
      "cols": {
        "lenName": 16,
        "lenType": 16,
        "lenVar": 40
      },
      "kernels_config": {
        "python": {
          "delete_cmd_postfix": "",
          "delete_cmd_prefix": "del ",
          "library": "var_list.py",
          "varRefreshCmd": "print(var_dic_list())"
        },
        "r": {
          "delete_cmd_postfix": ") ",
          "delete_cmd_prefix": "rm(",
          "library": "var_list.r",
          "varRefreshCmd": "cat(var_dic_list()) "
        }
      },
      "position": {
        "height": "234px",
        "left": "1112px",
        "right": "20px",
        "top": "157px",
        "width": "330px"
      },
      "types_to_exclude": [
        "module",
        "function",
        "builtin_function_or_method",
        "instance",
        "_Feature"
      ],
      "window_display": false
    },
    "colab": {
      "provenance": []
    },
    "accelerator": "GPU",
    "gpuClass": "standard"
  },
  "nbformat": 4,
  "nbformat_minor": 0
}